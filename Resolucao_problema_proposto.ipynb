{
 "cells": [
  {
   "cell_type": "code",
   "execution_count": 37,
   "metadata": {},
   "outputs": [],
   "source": [
    "# importação das bibliotecas\n",
    "import networkx as nx\n",
    "import matplotlib.pyplot as plt\n",
    "import pandas as pd\n",
    "import random"
   ]
  },
  {
   "cell_type": "code",
   "execution_count": 38,
   "metadata": {},
   "outputs": [
    {
     "data": {
      "text/plain": [
       "{(1, 2): Text(0.5, 1.5, '2'),\n",
       " (1, 6): Text(1.0, 1.0, '12'),\n",
       " (2, 3): Text(2.0, 2.0, '4'),\n",
       " (3, 4): Text(3.0, 1.75, '2'),\n",
       " (4, 5): Text(4.5, 1.65, '7'),\n",
       " (4, 6): Text(2.5, 1.25, '3'),\n",
       " (4, 7): Text(3.0, 1.15, '3'),\n",
       " (4, 8): Text(4.0, 1.25, '1'),\n",
       " (6, 9): Text(2.0, 0.5, '8'),\n",
       " (7, 9): Text(2.5, 0.4, '5'),\n",
       " (7, 10): Text(3.75, 0.4, '4'),\n",
       " (8, 10): Text(4.75, 0.5, '7'),\n",
       " (9, 10): Text(3.25, 0.0, '6'),\n",
       " (9, 11): Text(2.0, -0.5, '5'),\n",
       " (10, 12): Text(3.75, -0.5, '5'),\n",
       " (10, 13): Text(5.25, -0.5, '2'),\n",
       " (11, 12): Text(2.5, -1.0, '4'),\n",
       " (12, 13): Text(4.5, -1.0, '3')}"
      ]
     },
     "execution_count": 38,
     "metadata": {},
     "output_type": "execute_result"
    },
    {
     "data": {
      "image/png": "[encoded data removed]",
      "text/plain": [
       "<Figure size 432x288 with 1 Axes>"
      ]
     },
     "metadata": {},
     "output_type": "display_data"
    }
   ],
   "source": [
    "# Definição do grafo \n",
    "G = nx.Graph()\n",
    "G.add_node(1, pos = (0,1))\n",
    "G.add_node(2, pos = (1,2))\n",
    "G.add_node(3, pos = (3,2))\n",
    "G.add_node(4, pos = (3, 1.5))\n",
    "G.add_node(5, pos = (6, 1.8))\n",
    "G.add_node(6, pos = (2, 1))\n",
    "G.add_node(7, pos = (3, 0.8))\n",
    "G.add_node(8, pos = (5, 1))\n",
    "G.add_node(9, pos = (2, 0))\n",
    "G.add_node(10, pos = (4.5, 0))\n",
    "G.add_node(11, pos = (2, -1))\n",
    "G.add_node(12, pos = (3,-1))\n",
    "G.add_node(13, pos = (6, -1))\n",
    "\n",
    "G.add_edge(1,2, weight = 2, color = \"r\")\n",
    "G.add_edge(1,6, weight = 12, color = \"k\")\n",
    "G.add_edge(2,3, weight = 4, color = \"r\")\n",
    "G.add_edge(3,4, weight = 2, color = \"r\")\n",
    "G.add_edge(5,4, weight = 7, color = \"r\")\n",
    "G.add_edge(6,4, weight = 3, color = \"k\")\n",
    "G.add_edge(7,4, weight = 3, color = \"r\")\n",
    "G.add_edge(8,4, weight = 1, color = \"k\")\n",
    "G.add_edge(6,9, weight = 8, color = \"k\")\n",
    "G.add_edge(9,7, weight = 5, color = \"r\")\n",
    "G.add_edge(8,10, weight = 7, color = \"k\")\n",
    "G.add_edge(10,7, weight = 4, color = \"r\")\n",
    "G.add_edge(10,9, weight = 6, color = \"k\")\n",
    "G.add_edge(11,9, weight = 5, color = \"r\")\n",
    "G.add_edge(11,12, weight = 4, color = \"k\")\n",
    "G.add_edge(10,12, weight = 5, color = \"k\")\n",
    "G.add_edge(10,13, weight = 2, color = \"r\")\n",
    "G.add_edge(12,13, weight = 3, color = \"k\")\n",
    "pos=nx.get_node_attributes(G,'pos')\n",
    "\n",
    "color_map = [\"green\",\"orange\", \"green\",\"orange\", \"green\",\"orange\", \"red\",\"orange\", \"orange\", \"orange\", \"green\", \"orange\", \"green\"]\n",
    "\n",
    "edges = G.edges()\n",
    "e_colors = [G[u][v]['color'] for u,v in edges]\n",
    "\n",
    "nx.draw(G,pos, with_labels = True, node_color = color_map, edge_color = e_colors)\n",
    "labels = nx.get_edge_attributes(G,'weight')\n",
    "nx.draw_networkx_edge_labels(G,pos,edge_labels=labels)"
   ]
  },
  {
   "cell_type": "code",
   "execution_count": 39,
   "metadata": {},
   "outputs": [
    {
     "data": {
      "text/plain": [
       "[3, 4, 7]"
      ]
     },
     "execution_count": 39,
     "metadata": {},
     "output_type": "execute_result"
    }
   ],
   "source": [
    "# Cálculo amigo 3\n",
    "\n",
    "nx.dijkstra_path(G, 3, 7)"
   ]
  },
  {
   "cell_type": "code",
   "execution_count": 40,
   "metadata": {},
   "outputs": [
    {
     "data": {
      "text/plain": [
       "[1, 2, 3, 4, 7]"
      ]
     },
     "execution_count": 40,
     "metadata": {},
     "output_type": "execute_result"
    }
   ],
   "source": [
    "# Cálculo amigo 1\n",
    "\n",
    "nx.dijkstra_path(G, 1, 7)"
   ]
  },
  {
   "cell_type": "code",
   "execution_count": 41,
   "metadata": {},
   "outputs": [
    {
     "data": {
      "text/plain": [
       "[1, 2, 3]"
      ]
     },
     "execution_count": 41,
     "metadata": {},
     "output_type": "execute_result"
    }
   ],
   "source": [
    "# Cálculo amigo 1 ao 3\n",
    "\n",
    "nx.dijkstra_path(G, 1, 3)"
   ]
  },
  {
   "cell_type": "code",
   "execution_count": 42,
   "metadata": {},
   "outputs": [
    {
     "data": {
      "text/plain": [
       "[11, 9, 7]"
      ]
     },
     "execution_count": 42,
     "metadata": {},
     "output_type": "execute_result"
    }
   ],
   "source": [
    "# Cálculo do amigo 11 ao 7\n",
    "nx.dijkstra_path(G, 11, 7)"
   ]
  },
  {
   "cell_type": "code",
   "execution_count": 43,
   "metadata": {},
   "outputs": [
    {
     "data": {
      "text/plain": [
       "[13, 10, 7]"
      ]
     },
     "execution_count": 43,
     "metadata": {},
     "output_type": "execute_result"
    }
   ],
   "source": [
    "# Cálculo do amigo 13 ao 7\n",
    "\n",
    "nx.dijkstra_path(G, 13, 7)"
   ]
  },
  {
   "cell_type": "code",
   "execution_count": null,
   "metadata": {},
   "outputs": [],
   "source": []
  }
 ],
 "metadata": {
  "kernelspec": {
   "display_name": "Python 3 (ipykernel)",
   "language": "python",
   "name": "python3"
  },
  "language_info": {
   "codemirror_mode": {
    "name": "ipython",
    "version": 3
   },
   "file_extension": ".py",
   "mimetype": "text/x-python",
   "name": "python",
   "nbconvert_exporter": "python",
   "pygments_lexer": "ipython3",
   "version": "3.10.4"
  },
  "vscode": {
   "interpreter": {
    "hash": "2ad2ee33b41c9e762ad5bf2f0a3cb009dc3eaf5b09d1ee5fae31ac4a948dfd78"
   }
  }
 },
 "nbformat": 4,
 "nbformat_minor": 4
}
